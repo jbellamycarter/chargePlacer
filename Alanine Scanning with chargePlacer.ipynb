{
 "cells": [
  {
   "cell_type": "markdown",
   "metadata": {},
   "source": [
    "# Alanine Scanning with chargePlacer"
   ]
  },
  {
   "cell_type": "code",
   "execution_count": 1,
   "metadata": {},
   "outputs": [],
   "source": [
    "import numpy as np\n",
    "import matplotlib.pyplot as plt\n",
    "from chargePlacer import *"
   ]
  },
  {
   "cell_type": "markdown",
   "metadata": {},
   "source": [
    "Open PDB files for PksJ ACP4 and lysozyme."
   ]
  },
  {
   "cell_type": "code",
   "execution_count": 2,
   "metadata": {},
   "outputs": [],
   "source": [
    "acp4 = parse_coordinates('example/PksJACP4/ACP4_model.pdb')\n",
    "lyso = parse_coordinates('example/Lysozyme/1aki.pdb')"
   ]
  },
  {
   "cell_type": "markdown",
   "metadata": {},
   "source": [
    "Perform alanine scanning on ACP4 using the `alanine_scan` function. This will iterate through each mutable residue (i.e. not the N-terminus or C-terminus) and generate a minimised proton pattern for each. These are returned as a tuple containing: (0) a list of the mutated residue indices (to allow slicing with the parsed coordinate data), (1) an array with all of the proton patterns concatenated and (2) a list of tuples containing the energies of each mutant proton pattern."
   ]
  },
  {
   "cell_type": "code",
   "execution_count": 3,
   "metadata": {
    "scrolled": true
   },
   "outputs": [
    {
     "name": "stdout",
     "output_type": "stream",
     "text": [
      "\n",
      "HIS -29 A -> ALA...\n",
      "Best Sequence\n",
      "-------------\n",
      "[1 1 1 0 0 1 1 1 1 1 1 1 0 0 0 0 0 1 1 1 0 1 1 1 1 1 1 1 1 0 1 1 1 0 1 1 1\n",
      " 1 1]\n",
      "Coulomb energy = -1035.06 kJ/mol\n",
      "Optimisation completed in 0.28 seconds after 11 shunts in a total of 3190 steps.\n",
      "\n",
      "HIS -28 A -> ALA...\n",
      "Best Sequence\n",
      "-------------\n",
      "[1 1 1 0 0 1 1 1 1 1 1 1 0 0 0 0 0 1 1 1 0 1 1 1 1 1 1 1 1 0 1 1 1 0 1 1 1\n",
      " 1 1]\n",
      "Coulomb energy = -931.78 kJ/mol\n",
      "Optimisation completed in 0.09 seconds after 9 shunts in a total of 2610 steps.\n",
      "\n",
      "HIS -27 A -> ALA...\n",
      "Best Sequence\n",
      "-------------\n",
      "[1 1 1 0 0 1 1 1 1 1 1 1 0 0 0 0 0 1 1 1 0 1 1 1 1 1 1 1 1 0 1 1 1 0 1 1 1\n",
      " 1 1]\n",
      "Coulomb energy = -991.84 kJ/mol\n",
      "Optimisation completed in 0.08 seconds after 8 shunts in a total of 2320 steps.\n",
      "\n",
      "HIS -26 A -> ALA...\n",
      "Best Sequence\n",
      "-------------\n",
      "[0 1 1 1 1 0 1 1 1 1 1 1 0 0 0 0 0 1 1 1 0 1 1 1 1 1 1 1 1 0 1 1 1 0 1 1 1\n",
      " 1 1]\n",
      "Coulomb energy = -1029.51 kJ/mol\n",
      "Optimisation completed in 0.08 seconds after 6 shunts in a total of 1740 steps.\n",
      "\n",
      "HIS -25 A -> ALA...\n",
      "Best Sequence\n",
      "-------------\n",
      "[1 0 1 1 0 1 1 1 1 1 1 1 0 0 0 0 0 1 1 1 0 1 1 1 1 1 1 1 1 0 1 1 1 0 1 1 1\n",
      " 1 1]\n",
      "Coulomb energy = -1035.06 kJ/mol\n",
      "Optimisation completed in 0.12 seconds after 9 shunts in a total of 2610 steps.\n",
      "\n",
      "HIS -24 A -> ALA...\n",
      "Best Sequence\n",
      "-------------\n",
      "[0 1 1 1 0 1 1 1 1 1 1 1 0 0 0 0 0 1 1 1 0 1 1 1 1 1 1 1 1 0 1 1 1 0 1 1 1\n",
      " 1 1]\n",
      "Coulomb energy = -1029.51 kJ/mol\n",
      "Optimisation completed in 0.07 seconds after 7 shunts in a total of 2030 steps.\n",
      "\n",
      "ARG -17 A -> ALA...\n",
      "Best Sequence\n",
      "-------------\n",
      "[0 1 1 1 0 1 0 1 1 1 1 1 0 0 0 0 0 1 1 1 1 1 1 1 1 1 1 1 1 0 1 1 1 0 1 1 1\n",
      " 1 1]\n",
      "Coulomb energy = -565.68 kJ/mol\n",
      "Optimisation completed in 0.10 seconds after 8 shunts in a total of 2320 steps.\n",
      "\n",
      "HIS -14 A -> ALA...\n",
      "Best Sequence\n",
      "-------------\n",
      "[1 0 1 1 0 0 1 1 1 1 1 1 0 0 1 0 0 1 1 1 0 1 1 1 1 1 1 1 1 0 1 1 1 0 1 1 1\n",
      " 1 1]\n",
      "Coulomb energy = -695.18 kJ/mol\n",
      "Optimisation completed in 0.07 seconds after 7 shunts in a total of 2030 steps.\n",
      "\n",
      "ARG -2 A -> ALA...\n",
      "Best Sequence\n",
      "-------------\n",
      "[0 1 1 1 0 1 0 1 1 1 1 1 0 1 0 0 0 1 1 1 0 1 1 1 1 1 1 1 1 0 1 1 1 0 1 1 1\n",
      " 1 1]\n",
      "Coulomb energy = -533.76 kJ/mol\n",
      "Optimisation completed in 0.11 seconds after 9 shunts in a total of 2610 steps.\n",
      "\n",
      "ASP 2 A -> ALA...\n",
      "Best Sequence\n",
      "-------------\n",
      "[0 1 1 1 0 1 0 1 1 1 1 1 0 0 0 0 0 1 1 1 0 1 1 1 1 1 1 1 1 0 1 1 1 0 1 1 1\n",
      " 1 1]\n",
      "Coulomb energy = -1029.51 kJ/mol\n",
      "Optimisation completed in 0.13 seconds after 10 shunts in a total of 3080 steps.\n",
      "\n",
      "GLU 3 A -> ALA...\n",
      "Best Sequence\n",
      "-------------\n",
      "[1 0 1 1 0 0 1 1 1 1 1 1 0 0 0 0 0 1 1 1 0 1 1 1 1 1 1 1 1 0 1 1 1 0 1 1 1\n",
      " 1 1]\n",
      "Coulomb energy = -1035.06 kJ/mol\n",
      "Optimisation completed in 0.10 seconds after 9 shunts in a total of 2772 steps.\n",
      "\n",
      "LYS 6 A -> ALA...\n",
      "Best Sequence\n",
      "-------------\n",
      "[1 0 1 1 0 0 1 1 1 1 1 1 0 0 0 0 0 1 1 1 0 1 1 1 1 1 1 1 1 1 1 1 1 0 1 1 1\n",
      " 1 1]\n",
      "Coulomb energy = -530.88 kJ/mol\n",
      "Optimisation completed in 0.15 seconds after 10 shunts in a total of 2900 steps.\n",
      "\n",
      "ASP 8 A -> ALA...\n",
      "Best Sequence\n",
      "-------------\n",
      "[1 0 1 0 0 0 1 1 1 1 1 1 1 0 0 0 0 1 1 1 0 1 1 1 1 1 1 1 1 0 1 1 1 0 1 1 1\n",
      " 1 1]\n",
      "Coulomb energy = -499.94 kJ/mol\n",
      "Optimisation completed in 0.13 seconds after 10 shunts in a total of 3080 steps.\n",
      "\n",
      "GLU 13 A -> ALA...\n",
      "Best Sequence\n",
      "-------------\n",
      "[1 0 1 1 0 0 1 1 1 1 0 1 1 0 0 0 0 1 1 1 0 1 1 1 1 1 1 1 1 0 1 1 1 0 1 1 1\n",
      " 1 1]\n",
      "Coulomb energy = -777.58 kJ/mol\n",
      "Optimisation completed in 0.09 seconds after 7 shunts in a total of 2156 steps.\n",
      "\n",
      "ASP 20 A -> ALA...\n",
      "Best Sequence\n",
      "-------------\n",
      "[0 0 1 1 0 1 0 1 1 1 1 1 1 0 0 0 0 1 1 1 0 1 1 1 1 1 1 1 1 0 1 1 1 0 1 1 1\n",
      " 1 1]\n",
      "Coulomb energy = -1004.15 kJ/mol\n",
      "Optimisation completed in 0.18 seconds after 13 shunts in a total of 4004 steps.\n",
      "\n",
      "GLU 24 A -> ALA...\n",
      "Best Sequence\n",
      "-------------\n",
      "[0 0 1 1 0 1 0 1 1 1 1 1 1 0 0 0 0 1 1 1 0 1 1 1 1 1 1 1 1 0 1 1 1 0 1 1 1\n",
      " 1 1]\n",
      "Coulomb energy = -958.72 kJ/mol\n",
      "Optimisation completed in 0.11 seconds after 8 shunts in a total of 2464 steps.\n",
      "\n",
      "GLU 25 A -> ALA...\n",
      "Best Sequence\n",
      "-------------\n",
      "[0 0 1 1 0 1 0 1 1 1 1 1 1 0 0 0 0 1 1 1 0 1 1 1 1 1 1 1 1 0 1 1 1 0 1 1 1\n",
      " 1 1]\n",
      "Coulomb energy = -911.26 kJ/mol\n",
      "Optimisation completed in 0.09 seconds after 7 shunts in a total of 2156 steps.\n",
      "\n",
      "ARG 27 A -> ALA...\n",
      "Best Sequence\n",
      "-------------\n",
      "[1 0 1 1 0 0 1 1 1 1 1 1 1 0 0 0 0 1 1 1 0 1 1 1 1 1 1 1 1 0 1 1 1 0 1 1 1\n",
      " 1 1]\n",
      "Coulomb energy = -587.16 kJ/mol\n",
      "Optimisation completed in 0.09 seconds after 9 shunts in a total of 2610 steps.\n",
      "\n",
      "ASP 29 A -> ALA...\n",
      "Best Sequence\n",
      "-------------\n",
      "[0 1 1 1 0 1 0 1 1 1 1 1 1 0 0 0 0 0 1 1 0 1 1 1 1 1 1 1 1 0 1 1 1 0 1 1 1\n",
      " 1 1]\n",
      "Coulomb energy = -1029.51 kJ/mol\n",
      "Optimisation completed in 0.13 seconds after 10 shunts in a total of 3080 steps.\n",
      "\n",
      "ARG 30 A -> ALA...\n",
      "Best Sequence\n",
      "-------------\n",
      "[1 0 1 1 0 0 1 1 1 1 1 1 1 0 0 1 0 0 1 1 0 1 1 1 1 1 1 1 1 0 1 1 1 0 1 1 1\n",
      " 1 1]\n",
      "Coulomb energy = -834.20 kJ/mol\n",
      "Optimisation completed in 0.09 seconds after 8 shunts in a total of 2320 steps.\n",
      "\n",
      "GLU 31 A -> ALA...\n",
      "Best Sequence\n",
      "-------------\n",
      "[0 0 1 1 0 1 0 1 1 1 1 1 1 0 0 0 0 0 1 1 1 1 1 1 1 1 1 1 1 0 1 1 1 0 1 1 1\n",
      " 1 1]\n",
      "Coulomb energy = -807.93 kJ/mol\n",
      "Optimisation completed in 0.26 seconds after 11 shunts in a total of 3388 steps.\n",
      "\n",
      "ASP 32 A -> ALA...\n",
      "Best Sequence\n",
      "-------------\n",
      "[0 1 1 1 0 1 0 1 1 1 1 1 1 0 0 0 0 0 1 1 1 0 1 1 1 1 1 1 1 0 1 1 1 0 1 1 1\n",
      " 1 1]\n",
      "Coulomb energy = -1029.51 kJ/mol\n",
      "Optimisation completed in 0.22 seconds after 8 shunts in a total of 2464 steps.\n",
      "\n",
      "GLU 34 A -> ALA...\n",
      "Best Sequence\n",
      "-------------\n",
      "[1 0 1 1 0 0 1 1 1 1 1 1 1 0 0 0 0 0 1 1 1 0 1 1 1 1 1 1 1 0 1 1 1 0 1 1 1\n",
      " 1 1]\n",
      "Coulomb energy = -1035.06 kJ/mol\n",
      "Optimisation completed in 0.14 seconds after 11 shunts in a total of 3388 steps.\n",
      "\n",
      "ASP 36 A -> ALA...\n",
      "Best Sequence\n",
      "-------------\n",
      "[1 0 1 1 0 0 1 1 1 1 1 1 1 0 0 0 0 0 1 1 1 0 1 1 1 1 1 1 1 0 1 1 1 0 1 1 1\n",
      " 1 1]\n",
      "Coulomb energy = -1035.06 kJ/mol\n",
      "Optimisation completed in 0.16 seconds after 10 shunts in a total of 3080 steps.\n",
      "\n",
      "ASP 41 A -> ALA...\n",
      "Best Sequence\n",
      "-------------\n",
      "[1 0 1 1 0 0 1 1 1 1 1 1 1 0 0 0 0 0 1 1 1 0 1 1 1 1 1 1 1 0 1 1 1 0 1 1 1\n",
      " 1 1]\n",
      "Coulomb energy = -1035.06 kJ/mol\n",
      "Optimisation completed in 0.15 seconds after 7 shunts in a total of 2156 steps.\n",
      "\n",
      "ASP 45 A -> ALA...\n",
      "Best Sequence\n",
      "-------------\n",
      "[0 1 1 1 0 1 0 1 1 1 1 1 1 0 0 0 0 0 1 1 1 0 1 1 1 1 1 1 1 0 1 1 1 0 1 1 1\n",
      " 1 1]\n",
      "Coulomb energy = -1029.51 kJ/mol\n",
      "Optimisation completed in 0.27 seconds after 9 shunts in a total of 2772 steps.\n",
      "\n",
      "ARG 55 A -> ALA...\n",
      "Best Sequence\n",
      "-------------\n",
      "[1 0 1 1 0 0 1 1 1 1 1 1 1 0 0 0 0 1 1 1 1 0 1 1 1 1 1 1 1 0 1 1 1 0 1 1 1\n",
      " 1 1]\n",
      "Coulomb energy = -573.77 kJ/mol\n",
      "Optimisation completed in 0.17 seconds after 9 shunts in a total of 2610 steps.\n",
      "\n",
      "ARG 58 A -> ALA...\n",
      "Best Sequence\n",
      "-------------\n",
      "[1 0 1 1 0 0 1 1 1 1 1 1 1 0 0 0 0 0 1 1 1 0 1 1 1 1 1 1 1 1 1 1 1 0 1 1 1\n",
      " 1 1]\n",
      "Coulomb energy = -736.19 kJ/mol\n",
      "Optimisation completed in 0.11 seconds after 9 shunts in a total of 2610 steps.\n",
      "\n",
      "LYS 59 A -> ALA...\n",
      "Best Sequence\n",
      "-------------\n",
      "[1 0 1 1 0 0 1 1 1 1 1 1 1 0 0 1 0 0 1 1 1 0 1 1 1 1 1 1 1 0 1 1 1 0 1 1 1\n",
      " 1 1]\n",
      "Coulomb energy = -588.14 kJ/mol\n",
      "Optimisation completed in 0.12 seconds after 11 shunts in a total of 3190 steps.\n",
      "\n",
      "GLU 61 A -> ALA...\n",
      "Best Sequence\n",
      "-------------\n",
      "[1 0 1 1 0 0 1 1 1 1 1 1 1 0 0 0 0 0 1 1 1 0 1 1 1 1 1 1 1 1 1 1 1 0 0 1 1\n",
      " 1 1]\n",
      "Coulomb energy = -984.66 kJ/mol\n",
      "Optimisation completed in 0.13 seconds after 9 shunts in a total of 2772 steps.\n",
      "\n",
      "ASP 65 A -> ALA...\n",
      "Best Sequence\n",
      "-------------\n",
      "[0 1 1 1 0 1 0 1 1 1 1 1 1 0 0 0 0 0 1 1 1 0 1 1 1 1 1 1 1 1 0 1 1 0 1 1 1\n",
      " 1 1]\n",
      "Coulomb energy = -1029.51 kJ/mol\n",
      "Optimisation completed in 0.12 seconds after 7 shunts in a total of 2156 steps.\n",
      "\n",
      "GLU 71 A -> ALA...\n",
      "Best Sequence\n",
      "-------------\n",
      "[1 0 1 1 0 0 1 1 1 1 1 1 1 0 0 0 0 0 1 1 1 0 1 1 1 1 1 1 1 1 0 1 1 0 1 1 1\n",
      " 1 1]\n",
      "Coulomb energy = -1035.06 kJ/mol\n",
      "Optimisation completed in 0.10 seconds after 8 shunts in a total of 2464 steps.\n",
      "\n",
      "ARG 77 A -> ALA...\n",
      "Best Sequence\n",
      "-------------\n",
      "[0 1 1 1 0 1 0 1 1 1 1 1 1 0 0 0 0 0 1 1 1 0 1 1 1 1 1 1 1 1 1 1 1 0 1 1 1\n",
      " 1 1]\n",
      "Coulomb energy = -674.28 kJ/mol\n",
      "Optimisation completed in 0.13 seconds after 10 shunts in a total of 2900 steps.\n",
      "\n",
      "ASP 80 A -> ALA...\n",
      "Best Sequence\n",
      "-------------\n",
      "[0 0 1 1 0 1 0 1 1 1 1 1 1 0 0 0 0 0 1 1 1 0 1 1 1 1 1 1 1 1 0 1 1 1 1 1 1\n",
      " 1 1]\n",
      "Coulomb energy = -966.29 kJ/mol\n",
      "Optimisation completed in 0.14 seconds after 11 shunts in a total of 3388 steps.\n",
      "\n",
      "GLU 88 A -> ALA...\n",
      "Best Sequence\n",
      "-------------\n",
      "[1 0 1 1 0 0 1 1 1 1 1 1 1 0 0 0 0 0 1 1 1 0 1 1 1 1 1 1 1 1 0 1 1 1 0 1 1\n",
      " 1 1]\n",
      "Coulomb energy = -1035.06 kJ/mol\n",
      "Optimisation completed in 0.10 seconds after 9 shunts in a total of 2772 steps.\n",
      "\n",
      "ARG 89 A -> ALA...\n"
     ]
    },
    {
     "name": "stdout",
     "output_type": "stream",
     "text": [
      "Best Sequence\n",
      "-------------\n",
      "[1 0 1 1 0 0 1 1 1 1 1 1 1 0 0 0 0 0 1 1 1 0 1 1 1 1 1 1 1 1 1 1 1 1 0 1 1\n",
      " 1 1]\n",
      "Coulomb energy = -706.98 kJ/mol\n",
      "Optimisation completed in 0.10 seconds after 10 shunts in a total of 2900 steps.\n",
      "\n",
      "ARG 97 A -> ALA...\n",
      "Best Sequence\n",
      "-------------\n",
      "[0 1 1 1 0 1 0 1 1 1 1 1 1 0 0 0 0 0 1 1 1 0 1 1 1 1 1 1 1 1 1 1 1 1 0 1 1\n",
      " 1 1]\n",
      "Coulomb energy = -600.03 kJ/mol\n",
      "Optimisation completed in 0.11 seconds after 9 shunts in a total of 2610 steps.\n",
      "\n",
      "ASP 100 A -> ALA...\n",
      "Best Sequence\n",
      "-------------\n",
      "[1 0 1 1 0 0 1 1 1 1 1 1 1 0 0 0 0 0 1 1 1 0 1 1 1 1 1 1 1 1 0 1 1 1 0 1 1\n",
      " 1 1]\n",
      "Coulomb energy = -1035.06 kJ/mol\n",
      "Optimisation completed in 0.12 seconds after 10 shunts in a total of 3080 steps.\n"
     ]
    }
   ],
   "source": [
    "acpm3_ala = alanine_scan(*acpm3[0:4], 8, coulomb_only=True)"
   ]
  },
  {
   "cell_type": "markdown",
   "metadata": {},
   "source": [
    "You can easily plot the mutant proton pattern array with `imshow`. *Hint*: modifying a colourmap to give a different colour for `NaN` values allows you to see highlight the mutated residue."
   ]
  },
  {
   "cell_type": "code",
   "execution_count": 156,
   "metadata": {
    "scrolled": true
   },
   "outputs": [
    {
     "data": {
      "text/plain": [
       "Text(0.5, 1.0, 'ACPM3$^{8+}$ alanine scanning protons')"
      ]
     },
     "execution_count": 156,
     "metadata": {},
     "output_type": "execute_result"
    },
    {
     "data": {
      "image/png": "[encoded data removed]",
      "text/plain": [
       "<Figure size 432x288 with 1 Axes>"
      ]
     },
     "metadata": {
      "needs_background": "light"
     },
     "output_type": "display_data"
    }
   ],
   "source": [
    "cmap = plt.cm.Greys\n",
    "cmap.set_bad('red') # NaN values are 'bad'\n",
    "plt.imshow(acpm3_ala[1], cmap=cmap)\n",
    "plt.ylabel('Mutated Site')\n",
    "plt.xlabel('Chargeable Site')\n",
    "plt.title(r'ACPM3$^{8+}$ alanine scanning protons')"
   ]
  },
  {
   "cell_type": "code",
   "execution_count": 158,
   "metadata": {
    "scrolled": true
   },
   "outputs": [
    {
     "data": {
      "text/plain": [
       "<matplotlib.colorbar.Colorbar at 0x7ff2ca145a00>"
      ]
     },
     "execution_count": 158,
     "metadata": {},
     "output_type": "execute_result"
    },
    {
     "data": {
      "image/png": "[encoded data removed]",
      "text/plain": [
       "<Figure size 432x288 with 2 Axes>"
      ]
     },
     "metadata": {
      "needs_background": "light"
     },
     "output_type": "display_data"
    }
   ],
   "source": [
    "cmap = plt.cm.bwr\n",
    "cmap.set_bad('black') # NaN values are 'bad'\n",
    "plt.imshow(acpm3_ala[1]+acpm3[1], cmap=cmap)\n",
    "plt.ylabel('Mutated Site')\n",
    "plt.xlabel('Chargeable Site')\n",
    "plt.title(r'ACPM3$^{8+}$ alanine scanning charges')\n",
    "plt.colorbar(label='Charge', format='%.0f', ticks=[-1,0,1])"
   ]
  },
  {
   "cell_type": "code",
   "execution_count": 183,
   "metadata": {
    "scrolled": true
   },
   "outputs": [
    {
     "name": "stdout",
     "output_type": "stream",
     "text": [
      "Resn\tEcoul\n",
      "---------------\n",
      "HIS -29\t-1035.1\n",
      "HIS -28\t-931.8\n",
      "HIS -27\t-991.8\n",
      "HIS -26\t-1029.5\n",
      "HIS -25\t-1035.1\n",
      "HIS -24\t-1029.5\n",
      "ARG -17\t-565.7\n",
      "HIS -14\t-695.2\n",
      "ARG -2\t-533.8\n",
      "ASP 2\t-1029.5\n",
      "GLU 3\t-1035.1\n",
      "LYS 6\t-530.9\n",
      "ASP 8\t-499.9\n",
      "GLU 13\t-777.6\n",
      "ASP 20\t-1004.2\n",
      "GLU 24\t-958.7\n",
      "GLU 25\t-911.3\n",
      "ARG 27\t-587.2\n",
      "ASP 29\t-1029.5\n",
      "ARG 30\t-834.2\n",
      "GLU 31\t-807.9\n",
      "ASP 32\t-1029.5\n",
      "GLU 34\t-1035.1\n",
      "ASP 36\t-1035.1\n",
      "ASP 41\t-1035.1\n",
      "ASP 45\t-1029.5\n",
      "ARG 55\t-573.8\n",
      "ARG 58\t-736.2\n",
      "LYS 59\t-588.1\n",
      "GLU 61\t-984.7\n",
      "ASP 65\t-1029.5\n",
      "GLU 71\t-1035.1\n",
      "ARG 77\t-674.3\n",
      "ASP 80\t-966.3\n",
      "GLU 88\t-1035.1\n",
      "ARG 89\t-707.0\n",
      "ARG 97\t-600.0\n",
      "ASP 100\t-1035.1\n"
     ]
    }
   ],
   "source": [
    "print('Resn\\tEcoul')\n",
    "print('---------------')\n",
    "for r, res in enumerate(acpm3_ala[0]):\n",
    "    print('{} {}\\t{:.1f}'.format(acpm3[0][0][res], acpm3[0][1][res], acpm3_ala[2][r][0]))"
   ]
  },
  {
   "cell_type": "markdown",
   "metadata": {},
   "source": [
    "If we want to compare these proton patterns to the wildtype, we first generate a proton pattern for the wildtype (`acpm3_wt`) and then subtract this from the above array. If we plot this new array with a different colourmap, we can see that for many of the mutants there is little change in the overall proton pattern."
   ]
  },
  {
   "cell_type": "code",
   "execution_count": 27,
   "metadata": {},
   "outputs": [
    {
     "name": "stdout",
     "output_type": "stream",
     "text": [
      "Best Sequence\n",
      "-------------\n",
      "[1 0 1 1 0 0 1 1 1 1 1 1 1 0 0 0 0 0 1 1 1 0 1 1 1 1 1 1 1 1 0 1 1 1 0 1 1\n",
      " 1 1 1]\n",
      "Coulomb energy = -1035.06 kJ/mol\n",
      "Optimisation completed in 0.30 seconds after 10 shunts in a total of 3190 steps.\n"
     ]
    }
   ],
   "source": [
    "acpm3_wt = minimise_energy(*acpm3[1:4], 8, coulomb_only=True)"
   ]
  },
  {
   "cell_type": "code",
   "execution_count": 169,
   "metadata": {
    "scrolled": true
   },
   "outputs": [
    {
     "data": {
      "text/plain": [
       "<matplotlib.colorbar.Colorbar at 0x7ff2c9f70040>"
      ]
     },
     "execution_count": 169,
     "metadata": {},
     "output_type": "execute_result"
    },
    {
     "data": {
      "image/png": "[encoded data removed]",
      "text/plain": [
       "<Figure size 432x288 with 2 Axes>"
      ]
     },
     "metadata": {
      "needs_background": "light"
     },
     "output_type": "display_data"
    }
   ],
   "source": [
    "diff = acpm3_ala[1] - acpm3_wt[0] # \n",
    "cmap = plt.cm.PiYG\n",
    "cmap.set_bad('black') # NaN values are 'bad'\n",
    "plt.imshow(diff, cmap=cmap, vmin=-1.2, vmax=1.2)\n",
    "plt.ylabel('Mutated Site')\n",
    "plt.xlabel('Chargeable Site')\n",
    "plt.title(r'ACPM3$^{8+}$ mutants vs wildtype')\n",
    "plt.colorbar(label='Proton Difference', format='%.0f', ticks=[-1,0,1])"
   ]
  },
  {
   "cell_type": "markdown",
   "metadata": {},
   "source": [
    "From the Benchmarking chargePlacer notebook, we know that ACPM3 generates two valid proton patterns, to account for both patterns we should perform a set of minimisations to get both patterns before subtracting whichever pattern generates the least deviation  compared to a mutant."
   ]
  },
  {
   "cell_type": "code",
   "execution_count": 184,
   "metadata": {
    "scrolled": true
   },
   "outputs": [
    {
     "name": "stdout",
     "output_type": "stream",
     "text": [
      "Best Sequence\n",
      "-------------\n",
      "[0 1 1 1 0 1 0 1 1 1 1 1 1 0 0 0 0 0 1 1 1 0 1 1 1 1 1 1 1 1 0 1 1 1 0 1 1\n",
      " 1 1 1]\n",
      "Coulomb energy = -1029.51 kJ/mol\n",
      "Optimisation completed in 0.14 seconds after 6 shunts in a total of 1914 steps.\n",
      "Best Sequence\n",
      "-------------\n",
      "[1 0 1 1 0 0 1 1 1 1 1 1 1 0 0 0 0 0 1 1 1 0 1 1 1 1 1 1 1 1 0 1 1 1 0 1 1\n",
      " 1 1 1]\n",
      "Coulomb energy = -1035.06 kJ/mol\n",
      "Optimisation completed in 0.11 seconds after 10 shunts in a total of 3190 steps.\n",
      "Best Sequence\n",
      "-------------\n",
      "[1 0 1 1 0 0 1 1 1 1 1 1 1 0 0 0 0 0 1 1 1 0 1 1 1 1 1 1 1 1 0 1 1 1 0 1 1\n",
      " 1 1 1]\n",
      "Coulomb energy = -1035.06 kJ/mol\n",
      "Optimisation completed in 0.14 seconds after 11 shunts in a total of 3509 steps.\n",
      "Best Sequence\n",
      "-------------\n",
      "[0 1 1 1 0 1 0 1 1 1 1 1 1 0 0 0 0 0 1 1 1 0 1 1 1 1 1 1 1 1 0 1 1 1 0 1 1\n",
      " 1 1 1]\n",
      "Coulomb energy = -1029.51 kJ/mol\n",
      "Optimisation completed in 0.10 seconds after 9 shunts in a total of 2871 steps.\n",
      "Best Sequence\n",
      "-------------\n",
      "[1 0 1 1 0 0 1 1 1 1 1 1 1 0 0 0 0 0 1 1 1 0 1 1 1 1 1 1 1 1 0 1 1 1 0 1 1\n",
      " 1 1 1]\n",
      "Coulomb energy = -1035.06 kJ/mol\n",
      "Optimisation completed in 0.13 seconds after 10 shunts in a total of 3190 steps.\n",
      "Best Sequence\n",
      "-------------\n",
      "[1 0 1 1 0 0 1 1 1 1 1 1 1 0 0 0 0 0 1 1 1 0 1 1 1 1 1 1 1 1 0 1 1 1 0 1 1\n",
      " 1 1 1]\n",
      "Coulomb energy = -1035.06 kJ/mol\n",
      "Optimisation completed in 0.10 seconds after 8 shunts in a total of 2552 steps.\n",
      "Best Sequence\n",
      "-------------\n",
      "[1 0 1 1 0 0 1 1 1 1 1 1 1 0 0 0 0 0 1 1 1 0 1 1 1 1 1 1 1 1 0 1 1 1 0 1 1\n",
      " 1 1 1]\n",
      "Coulomb energy = -1035.06 kJ/mol\n",
      "Optimisation completed in 0.13 seconds after 11 shunts in a total of 3509 steps.\n",
      "Best Sequence\n",
      "-------------\n",
      "[1 0 1 1 0 0 1 1 1 1 1 1 1 0 0 0 0 0 1 1 1 0 1 1 1 1 1 1 1 1 0 1 1 1 0 1 1\n",
      " 1 1 1]\n",
      "Coulomb energy = -1035.06 kJ/mol\n",
      "Optimisation completed in 0.12 seconds after 9 shunts in a total of 2871 steps.\n",
      "Best Sequence\n",
      "-------------\n",
      "[1 0 1 1 0 0 1 1 1 1 1 1 1 0 0 0 0 0 1 1 1 0 1 1 1 1 1 1 1 1 0 1 1 1 0 1 1\n",
      " 1 1 1]\n",
      "Coulomb energy = -1035.06 kJ/mol\n",
      "Optimisation completed in 0.13 seconds after 10 shunts in a total of 3190 steps.\n",
      "Best Sequence\n",
      "-------------\n",
      "[1 0 1 1 0 0 1 1 1 1 1 1 1 0 0 0 0 0 1 1 1 0 1 1 1 1 1 1 1 1 0 1 1 1 0 1 1\n",
      " 1 1 1]\n",
      "Coulomb energy = -1035.06 kJ/mol\n",
      "Optimisation completed in 0.11 seconds after 8 shunts in a total of 2552 steps.\n"
     ]
    }
   ],
   "source": [
    "concat = np.zeros((10, len(acpm3[0][0])))\n",
    "cenergy = []\n",
    "for i in range(10):\n",
    "    concat[i], cen = minimise_energy(*acpm3[1:4], 8, coulomb_only=True)[0:2]\n",
    "    cenergy.append(cen)\n",
    "uniq = np.unique(concat, axis=0, return_index=True)"
   ]
  },
  {
   "cell_type": "code",
   "execution_count": 188,
   "metadata": {},
   "outputs": [
    {
     "data": {
      "text/plain": [
       "<matplotlib.colorbar.Colorbar at 0x7ff2ca2c5790>"
      ]
     },
     "execution_count": 188,
     "metadata": {},
     "output_type": "execute_result"
    },
    {
     "data": {
      "image/png": "[encoded data removed]",
      "text/plain": [
       "<Figure size 432x288 with 2 Axes>"
      ]
     },
     "metadata": {
      "needs_background": "light"
     },
     "output_type": "display_data"
    }
   ],
   "source": [
    "diff = np.zeros_like(acpm3_ala[1])\n",
    "del_energy = []\n",
    "for r, res in enumerate(acpm3_ala[0]):\n",
    "    d1 = acpm3_ala[1][r] - uniq[0][0]\n",
    "    d2 = acpm3_ala[1][r] - uniq[0][1]\n",
    "    if np.count_nonzero(d1) < np.count_nonzero(d2):\n",
    "        diff[r] = d1\n",
    "        del_energy.append(float(acpm3_ala[2][r][0] - cenergy[uniq[1][0]]))\n",
    "    else:\n",
    "        diff[r] = d2\n",
    "        del_energy.append(float(acpm3_ala[2][r][0] - cenergy[uniq[1][1]]))\n",
    "cmap = plt.cm.PiYG\n",
    "cmap.set_bad('black') # NaN values are 'bad'\n",
    "plt.imshow(diff, cmap=cmap, vmin=-1.2, vmax=1.2)\n",
    "plt.ylabel('Mutated Site')\n",
    "plt.xlabel('Chargeable Site')\n",
    "plt.title(r'ACPM3$^{8+}$ mutants vs wildtype')\n",
    "plt.colorbar(label='Proton Difference', format='%.0f', ticks=[-1,0,1])"
   ]
  },
  {
   "cell_type": "code",
   "execution_count": 190,
   "metadata": {
    "scrolled": true
   },
   "outputs": [
    {
     "name": "stdout",
     "output_type": "stream",
     "text": [
      "Residue \t +1 \t -1 \tΔEcoul\n",
      "---------------------------------------\n",
      "HIS -28\t\t-29\t\t103.3\n",
      "HIS -27\t\t-29\t\t43.2\n",
      "ARG -17\t\t31\t\t463.8\n",
      "HIS -14\t\t20\t\t339.9\n",
      "ARG -2\t\t13\t\t495.7\n",
      "LYS 6\t\t61\t\t504.2\n",
      "ASP 8\t\t\t-27\t535.1\n",
      "GLU 13\t\t\t2\t257.5\n",
      "ASP 20\t\t\t-29\t25.4\n",
      "GLU 24\t\t\t-29\t70.8\n",
      "GLU 25\t\t\t-29\t118.2\n",
      "ARG 27\t\t25\t\t447.9\n",
      "ARG 30\t\t20\t\t200.9\n",
      "GLU 31\t\t\t-29\t221.6\n",
      "ARG 55\t\t25\t\t461.3\n",
      "ARG 58\t\t61\t\t298.9\n",
      "LYS 59\t\t20\t\t446.9\n",
      "GLU 61\t\t\t88\t50.4\n",
      "ARG 77\t\t61\t\t355.2\n",
      "ASP 80\t\t\t-29\t63.2\n",
      "ARG 89\t\t61\t\t328.1\n",
      "ARG 97\t\t61\t\t429.5\n"
     ]
    }
   ],
   "source": [
    "print('Residue \\t +1 \\t -1 \\tΔEcoul')\n",
    "print('---------------------------------------')\n",
    "for r, res in enumerate(acpm3_ala[0]):\n",
    "    prot = [str(n) for i, n in enumerate(acpm3[0][1]) if diff[r,i] == 1]\n",
    "    deprot = [str(n) for i, n in enumerate(acpm3[0][1]) if diff[r,i] == -1]\n",
    "    if prot or deprot:\n",
    "        print('{} {}\\t\\t{}\\t{}\\t{:.1f}'.format(acpm3[0][0][res], acpm3[0][1][res], ' '.join(prot), ' '.join(deprot), del_energy[r]))"
   ]
  },
  {
   "cell_type": "markdown",
   "metadata": {},
   "source": [
    "## Lysozyme"
   ]
  },
  {
   "cell_type": "code",
   "execution_count": 160,
   "metadata": {},
   "outputs": [
    {
     "name": "stdout",
     "output_type": "stream",
     "text": [
      "\n",
      "LYS 1 A -> ALA...\n",
      "Best Sequence\n",
      "-------------\n",
      "[1 1 0 1 1 1 0 1 1 0 1 0 1 1 1 0 1 0 0 1 0 1 1 1 0 1 1 0]\n",
      "Coulomb energy = -589.25 kJ/mol\n",
      "Optimisation completed in 0.22 seconds after 8 shunts in a total of 1440 steps.\n",
      "\n",
      "ARG 5 A -> ALA...\n",
      "Best Sequence\n",
      "-------------\n",
      "[1 1 0 1 1 1 0 1 1 0 1 0 1 1 1 0 1 0 0 1 0 1 1 1 0 1 1 0]\n",
      "Coulomb energy = -863.31 kJ/mol\n",
      "Optimisation completed in 0.06 seconds after 8 shunts in a total of 1440 steps.\n",
      "\n",
      "GLU 7 A -> ALA...\n",
      "Best Sequence\n",
      "-------------\n",
      "[1 0 1 1 1 1 0 1 0 0 1 0 1 1 1 0 1 0 0 1 0 1 1 1 0 1 1 0]\n",
      "Coulomb energy = -433.64 kJ/mol\n",
      "Optimisation completed in 0.04 seconds after 7 shunts in a total of 1309 steps.\n",
      "\n",
      "LYS 13 A -> ALA...\n",
      "Best Sequence\n",
      "-------------\n",
      "[1 1 1 0 1 1 1 1 1 0 0 0 1 1 0 1 1 0 0 1 0 1 1 1 0 1 1 0]\n",
      "Coulomb energy = -547.80 kJ/mol\n",
      "Optimisation completed in 0.04 seconds after 8 shunts in a total of 1440 steps.\n",
      "\n",
      "ARG 14 A -> ALA...\n",
      "Best Sequence\n",
      "-------------\n",
      "[1 1 1 0 1 1 0 1 1 0 1 0 1 1 1 0 1 0 0 1 0 1 1 1 0 1 1 0]\n",
      "Coulomb energy = -839.57 kJ/mol\n",
      "Optimisation completed in 0.04 seconds after 7 shunts in a total of 1260 steps.\n",
      "\n",
      "HIS 15 A -> ALA...\n",
      "Best Sequence\n",
      "-------------\n",
      "[1 1 1 0 1 1 0 1 1 0 0 0 1 1 0 1 1 0 1 1 0 1 1 1 0 1 1 0]\n",
      "Coulomb energy = -959.93 kJ/mol\n",
      "Optimisation completed in 0.05 seconds after 8 shunts in a total of 1440 steps.\n",
      "\n",
      "ASP 18 A -> ALA...\n",
      "Best Sequence\n",
      "-------------\n",
      "[1 1 1 0 1 1 0 1 0 0 1 0 1 1 1 0 1 0 0 1 0 1 1 1 0 1 1 0]\n",
      "Coulomb energy = -644.58 kJ/mol\n",
      "Optimisation completed in 0.04 seconds after 7 shunts in a total of 1309 steps.\n",
      "\n",
      "ARG 21 A -> ALA...\n",
      "Best Sequence\n",
      "-------------\n",
      "[1 1 1 0 1 1 0 0 1 0 0 0 1 1 0 1 1 0 1 1 1 1 1 1 0 1 1 0]\n",
      "Coulomb energy = -813.28 kJ/mol\n",
      "Optimisation completed in 0.04 seconds after 8 shunts in a total of 1440 steps.\n",
      "\n",
      "LYS 33 A -> ALA...\n",
      "Best Sequence\n",
      "-------------\n",
      "[1 1 1 0 1 1 1 0 1 0 1 0 1 1 1 0 1 0 0 1 0 1 1 1 0 1 1 0]\n",
      "Coulomb energy = -913.33 kJ/mol\n",
      "Optimisation completed in 0.04 seconds after 8 shunts in a total of 1440 steps.\n",
      "\n",
      "GLU 35 A -> ALA...\n",
      "Best Sequence\n",
      "-------------\n",
      "[1 1 1 0 1 1 1 0 1 0 1 0 0 1 1 0 1 0 0 1 0 1 1 1 0 1 1 0]\n",
      "Coulomb energy = -757.53 kJ/mol\n",
      "Optimisation completed in 0.04 seconds after 6 shunts in a total of 1122 steps.\n",
      "\n",
      "ARG 45 A -> ALA...\n",
      "Best Sequence\n",
      "-------------\n",
      "[1 1 1 0 1 1 1 0 1 1 0 0 1 1 0 1 1 0 0 1 0 1 1 1 0 1 1 0]\n",
      "Coulomb energy = -961.27 kJ/mol\n",
      "Optimisation completed in 0.05 seconds after 8 shunts in a total of 1440 steps.\n",
      "\n",
      "ASP 48 A -> ALA...\n",
      "Best Sequence\n",
      "-------------\n",
      "[1 1 1 0 1 1 1 0 1 1 0 0 0 1 0 1 1 0 0 1 0 1 1 1 0 1 1 0]\n",
      "Coulomb energy = -841.74 kJ/mol\n",
      "Optimisation completed in 0.05 seconds after 7 shunts in a total of 1309 steps.\n",
      "\n",
      "ASP 52 A -> ALA...\n",
      "Best Sequence\n",
      "-------------\n",
      "[1 1 1 0 1 1 1 0 1 1 0 0 0 1 0 1 1 0 0 1 0 1 1 1 0 1 1 0]\n",
      "Coulomb energy = -961.27 kJ/mol\n",
      "Optimisation completed in 0.04 seconds after 7 shunts in a total of 1309 steps.\n",
      "\n",
      "ARG 61 A -> ALA...\n",
      "Best Sequence\n",
      "-------------\n",
      "[1 1 1 0 1 1 1 0 1 1 0 1 1 0 1 0 1 0 0 1 0 1 1 1 0 1 1 0]\n",
      "Coulomb energy = -679.20 kJ/mol\n",
      "Optimisation completed in 0.04 seconds after 7 shunts in a total of 1260 steps.\n",
      "\n",
      "ASP 66 A -> ALA...\n",
      "Best Sequence\n",
      "-------------\n",
      "[1 1 1 0 1 1 1 0 1 0 0 1 0 1 1 0 1 0 0 1 0 1 1 1 0 1 1 0]\n",
      "Coulomb energy = -913.33 kJ/mol\n",
      "Optimisation completed in 0.05 seconds after 9 shunts in a total of 1683 steps.\n",
      "\n",
      "ARG 68 A -> ALA...\n",
      "Best Sequence\n",
      "-------------\n",
      "[1 1 1 0 1 1 1 0 1 1 0 1 0 1 1 0 1 0 0 1 0 1 1 1 0 1 1 0]\n",
      "Coulomb energy = -923.72 kJ/mol\n",
      "Optimisation completed in 0.05 seconds after 6 shunts in a total of 1080 steps.\n",
      "\n",
      "ARG 73 A -> ALA...\n",
      "Best Sequence\n",
      "-------------\n",
      "[1 1 1 0 1 1 0 0 1 1 0 1 0 1 1 1 0 0 1 1 0 1 1 1 0 1 1 0]\n",
      "Coulomb energy = -735.24 kJ/mol\n",
      "Optimisation completed in 0.04 seconds after 7 shunts in a total of 1260 steps.\n",
      "\n",
      "ASP 87 A -> ALA...\n",
      "Best Sequence\n",
      "-------------\n",
      "[1 1 1 0 1 1 0 0 1 1 0 0 0 1 1 0 1 1 0 1 0 1 1 1 0 1 1 0]\n",
      "Coulomb energy = -849.92 kJ/mol\n",
      "Optimisation completed in 0.05 seconds after 9 shunts in a total of 1683 steps.\n",
      "\n",
      "LYS 96 A -> ALA...\n",
      "Best Sequence\n",
      "-------------\n",
      "[1 1 1 0 1 1 1 0 1 1 0 0 0 1 1 0 1 1 0 1 0 1 1 1 0 1 1 0]\n",
      "Coulomb energy = -961.27 kJ/mol\n",
      "Optimisation completed in 0.03 seconds after 6 shunts in a total of 1080 steps.\n",
      "\n",
      "LYS 97 A -> ALA...\n",
      "Best Sequence\n",
      "-------------\n",
      "[1 1 1 0 1 1 0 0 1 1 0 1 0 1 1 1 0 1 0 1 0 1 1 1 0 1 1 0]\n",
      "Coulomb energy = -812.75 kJ/mol\n",
      "Optimisation completed in 0.04 seconds after 7 shunts in a total of 1260 steps.\n",
      "\n",
      "ASP 101 A -> ALA...\n",
      "Best Sequence\n",
      "-------------\n",
      "[1 1 1 0 1 1 1 0 1 0 0 0 0 1 1 0 1 1 0 0 1 1 1 1 0 1 1 0]\n",
      "Coulomb energy = -852.02 kJ/mol\n",
      "Optimisation completed in 0.05 seconds after 8 shunts in a total of 1496 steps.\n",
      "\n",
      "ARG 112 A -> ALA...\n",
      "Best Sequence\n",
      "-------------\n",
      "[1 1 1 0 1 1 0 0 1 1 0 1 0 1 1 1 0 1 0 1 1 0 1 1 0 1 1 0]\n",
      "Coulomb energy = -789.95 kJ/mol\n",
      "Optimisation completed in 0.07 seconds after 9 shunts in a total of 1620 steps.\n",
      "\n",
      "ARG 114 A -> ALA...\n",
      "Best Sequence\n",
      "-------------\n",
      "[1 1 1 0 1 1 1 0 1 1 0 1 0 1 1 1 0 1 0 0 1 0 1 1 0 1 1 0]\n",
      "Coulomb energy = -819.30 kJ/mol\n",
      "Optimisation completed in 0.04 seconds after 7 shunts in a total of 1260 steps.\n",
      "\n",
      "LYS 116 A -> ALA...\n",
      "Best Sequence\n",
      "-------------\n",
      "[1 1 1 0 1 1 0 0 1 1 0 1 0 1 1 1 0 1 0 1 1 0 1 1 0 1 1 0]\n",
      "Coulomb energy = -797.27 kJ/mol\n",
      "Optimisation completed in 0.07 seconds after 7 shunts in a total of 1260 steps.\n",
      "\n",
      "ASP 119 A -> ALA...\n",
      "Best Sequence\n",
      "-------------\n",
      "[1 1 1 0 1 1 1 0 1 0 0 0 0 1 1 0 1 1 0 0 1 0 1 1 1 1 1 0]\n",
      "Coulomb energy = -543.93 kJ/mol\n",
      "Optimisation completed in 0.10 seconds after 10 shunts in a total of 1870 steps.\n",
      "\n",
      "ARG 125 A -> ALA...\n",
      "Best Sequence\n",
      "-------------\n",
      "[1 1 1 0 1 1 1 0 1 1 0 0 0 1 1 0 1 1 0 0 1 0 1 1 1 1 1 0]\n",
      "Coulomb energy = -454.22 kJ/mol\n",
      "Optimisation completed in 0.05 seconds after 7 shunts in a total of 1260 steps.\n",
      "\n",
      "ARG 128 A -> ALA...\n",
      "Best Sequence\n",
      "-------------\n",
      "[1 1 1 0 1 1 1 0 1 1 0 1 0 1 1 1 0 1 0 0 1 0 1 1 1 0 1 0]\n",
      "Coulomb energy = -657.37 kJ/mol\n",
      "Optimisation completed in 0.03 seconds after 6 shunts in a total of 1080 steps.\n"
     ]
    }
   ],
   "source": [
    "lyso_ala = alanine_scan(*lyso[0:4], 8, coulomb_only=True)"
   ]
  },
  {
   "cell_type": "code",
   "execution_count": 161,
   "metadata": {
    "scrolled": true
   },
   "outputs": [
    {
     "data": {
      "text/plain": [
       "Text(0.5, 1.0, 'Lysozyme$^{8+}$ alanine scanning protons')"
      ]
     },
     "execution_count": 161,
     "metadata": {},
     "output_type": "execute_result"
    },
    {
     "data": {
      "image/png": "[encoded data removed]",
      "text/plain": [
       "<Figure size 432x288 with 1 Axes>"
      ]
     },
     "metadata": {
      "needs_background": "light"
     },
     "output_type": "display_data"
    }
   ],
   "source": [
    "cmap = plt.cm.Greys\n",
    "cmap.set_bad('red') # NaN values are 'bad'\n",
    "plt.imshow(lyso_ala[1], cmap=cmap)\n",
    "plt.ylabel('Mutated Site')\n",
    "plt.xlabel('Chargeable Site')\n",
    "plt.title(r'Lysozyme$^{8+}$ alanine scanning protons')"
   ]
  },
  {
   "cell_type": "code",
   "execution_count": 164,
   "metadata": {
    "scrolled": true
   },
   "outputs": [
    {
     "data": {
      "text/plain": [
       "<matplotlib.colorbar.Colorbar at 0x7ff2ca005ac0>"
      ]
     },
     "execution_count": 164,
     "metadata": {},
     "output_type": "execute_result"
    },
    {
     "data": {
      "image/png": "[encoded data removed]",
      "text/plain": [
       "<Figure size 432x288 with 2 Axes>"
      ]
     },
     "metadata": {
      "needs_background": "light"
     },
     "output_type": "display_data"
    }
   ],
   "source": [
    "cmap = plt.cm.bwr\n",
    "cmap.set_bad('black') # NaN values are 'bad'\n",
    "plt.imshow(lyso_ala[1]+lyso[1], cmap=cmap)\n",
    "plt.ylabel('Mutated Site')\n",
    "plt.xlabel('Chargeable Site')\n",
    "plt.title(r'Lysozyme$^{8+}$ alanine scanning charges')\n",
    "plt.colorbar(label='Charge', format='%.0f', ticks=[-1,0,1])"
   ]
  },
  {
   "cell_type": "code",
   "execution_count": 182,
   "metadata": {
    "scrolled": false
   },
   "outputs": [
    {
     "name": "stdout",
     "output_type": "stream",
     "text": [
      "Resn\tΔEcoul\n",
      "---------------\n",
      "LYS 1\t-589.3\n",
      "ARG 5\t-863.3\n",
      "GLU 7\t-433.6\n",
      "LYS 13\t-547.8\n",
      "ARG 14\t-839.6\n",
      "HIS 15\t-959.9\n",
      "ASP 18\t-644.6\n",
      "ARG 21\t-813.3\n",
      "LYS 33\t-913.3\n",
      "GLU 35\t-757.5\n",
      "ARG 45\t-961.3\n",
      "ASP 48\t-841.7\n",
      "ASP 52\t-961.3\n",
      "ARG 61\t-679.2\n",
      "ASP 66\t-913.3\n",
      "ARG 68\t-923.7\n",
      "ARG 73\t-735.2\n",
      "ASP 87\t-849.9\n",
      "LYS 96\t-961.3\n",
      "LYS 97\t-812.8\n",
      "ASP 101\t-852.0\n",
      "ARG 112\t-789.9\n",
      "ARG 114\t-819.3\n",
      "LYS 116\t-797.3\n",
      "ASP 119\t-543.9\n",
      "ARG 125\t-454.2\n",
      "ARG 128\t-657.4\n"
     ]
    }
   ],
   "source": [
    "print('Resn\\tΔEcoul')\n",
    "print('---------------')\n",
    "for r, res in enumerate(lyso_ala[0]):\n",
    "    print('{} {}\\t{:.1f}'.format(lyso[0][0][res], lyso[0][1][res], lyso_ala[2][r][0]))"
   ]
  },
  {
   "cell_type": "code",
   "execution_count": 167,
   "metadata": {},
   "outputs": [
    {
     "name": "stdout",
     "output_type": "stream",
     "text": [
      "Best Sequence\n",
      "-------------\n",
      "[1 1 1 0 1 1 1 0 1 1 0 0 0 1 1 0 1 1 0 0 1 0 1 1 1 0 1 1 0]\n",
      "Coulomb energy = -961.27 kJ/mol\n",
      "Optimisation completed in 0.22 seconds after 7 shunts in a total of 1386 steps.\n"
     ]
    }
   ],
   "source": [
    "lyso_wt = minimise_energy(*lyso[1:4], 8, coulomb_only=True)"
   ]
  },
  {
   "cell_type": "code",
   "execution_count": 172,
   "metadata": {
    "scrolled": false
   },
   "outputs": [
    {
     "data": {
      "text/plain": [
       "<matplotlib.colorbar.Colorbar at 0x7ff2c9e372b0>"
      ]
     },
     "execution_count": 172,
     "metadata": {},
     "output_type": "execute_result"
    },
    {
     "data": {
      "image/png": "[encoded data removed]",
      "text/plain": [
       "<Figure size 432x288 with 2 Axes>"
      ]
     },
     "metadata": {
      "needs_background": "light"
     },
     "output_type": "display_data"
    }
   ],
   "source": [
    "lyso_diff = lyso_ala[1] - lyso_wt[0] # \n",
    "cmap = plt.cm.PiYG\n",
    "cmap.set_bad('black') # NaN values are 'bad'\n",
    "plt.imshow(lyso_diff, cmap=cmap, vmin=-1.2, vmax=1.2)\n",
    "plt.ylabel('Mutated Site')\n",
    "plt.xlabel('Chargeable Site')\n",
    "plt.title(r'Lysozyme$^{8+}$ mutants vs wildtype')\n",
    "plt.colorbar(label='Proton Difference', format='%.0f', ticks=[-1,0,1])"
   ]
  },
  {
   "cell_type": "code",
   "execution_count": 180,
   "metadata": {
    "scrolled": true
   },
   "outputs": [
    {
     "name": "stdout",
     "output_type": "stream",
     "text": [
      "Residue |+1 \t|-1 \t|Ecoul\n",
      "---------------------------------------\n",
      "LYS 1\t|45 66\t|68\t|372.0\n",
      "ARG 5\t|45 66\t|68\t|98.0\n",
      "GLU 7\t|45 66\t|1 33 68\t|527.6\n",
      "LYS 13\t|18\t|\t|413.5\n",
      "ARG 14\t|45 66\t|68\t|121.7\n",
      "HIS 15\t|96\t|\t|1.3\n",
      "ASP 18\t|45 66\t|15 33 68\t|316.7\n",
      "ARG 21\t|96 101\t|15\t|148.0\n",
      "LYS 33\t|45 66\t|68\t|47.9\n",
      "GLU 35\t|45 66\t|33 52 68\t|203.7\n",
      "ASP 48\t|\t|52\t|119.5\n",
      "ARG 61\t|45 48 66\t|52 68\t|282.1\n",
      "ASP 66\t|45\t|33 68\t|47.9\n",
      "ARG 68\t|45\t|\t|37.6\n",
      "ARG 73\t|45 66 96\t|15 68\t|226.0\n",
      "ASP 87\t|\t|15\t|111.3\n",
      "LYS 97\t|45 66 96\t|15 68\t|148.5\n",
      "ASP 101\t|\t|33\t|109.2\n",
      "ARG 112\t|45 66 96\t|15 68\t|171.3\n",
      "ARG 114\t|45 66\t|68\t|142.0\n",
      "LYS 116\t|45 66 96\t|15 68\t|164.0\n",
      "ASP 119\t|\t|33\t|417.3\n",
      "ARG 125\t|119\t|\t|507.0\n",
      "ARG 128\t|45 66\t|68\t|303.9\n"
     ]
    }
   ],
   "source": [
    "print('Residue |+1 \\t|-1 \\t|Ecoul')\n",
    "print('---------------------------------------')\n",
    "for r, res in enumerate(lyso_ala[0]):\n",
    "    prot = [str(n) for i, n in enumerate(lyso[0][1]) if lyso_diff[r,i] == 1]\n",
    "    deprot = [str(n) for i, n in enumerate(lyso[0][1]) if lyso_diff[r,i] == -1]\n",
    "    if prot or deprot:\n",
    "        print('{} {}\\t|{}\\t|{}\\t|{:.1f}'.format(lyso[0][0][res], lyso[0][1][res], ' '.join(prot), ' '.join(deprot), lyso_ala[2][r][0] - lyso_wt[2]))"
   ]
  }
 ],
 "metadata": {
  "kernelspec": {
   "display_name": "Python 3",
   "language": "python",
   "name": "python3"
  },
  "language_info": {
   "codemirror_mode": {
    "name": "ipython",
    "version": 3
   },
   "file_extension": ".py",
   "mimetype": "text/x-python",
   "name": "python",
   "nbconvert_exporter": "python",
   "pygments_lexer": "ipython3",
   "version": "3.8.2"
  },
  "varInspector": {
   "cols": {
    "lenName": 16,
    "lenType": 16,
    "lenVar": 40
   },
   "kernels_config": {
    "python": {
     "delete_cmd_postfix": "",
     "delete_cmd_prefix": "del ",
     "library": "var_list.py",
     "varRefreshCmd": "print(var_dic_list())"
    },
    "r": {
     "delete_cmd_postfix": ") ",
     "delete_cmd_prefix": "rm(",
     "library": "var_list.r",
     "varRefreshCmd": "cat(var_dic_list()) "
    }
   },
   "types_to_exclude": [
    "module",
    "function",
    "builtin_function_or_method",
    "instance",
    "_Feature"
   ],
   "window_display": false
  }
 },
 "nbformat": 4,
 "nbformat_minor": 4
}
